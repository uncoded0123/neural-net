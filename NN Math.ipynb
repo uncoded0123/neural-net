{
 "cells": [
  {
   "cell_type": "code",
   "execution_count": 1,
   "id": "205df95d",
   "metadata": {},
   "outputs": [
    {
     "data": {
      "text/plain": [
       "[1.804948513513993e-35, 1.0]"
      ]
     },
     "execution_count": 1,
     "metadata": {},
     "output_type": "execute_result"
    }
   ],
   "source": [
    "# FFNN Python\n",
    "def f(w, x):\n",
    "    lst = []\n",
    "    for ele in zip(w,x):\n",
    "        lst.append(ele[0] * ele[1])\n",
    "    return lst\n",
    "\n",
    "def ReLU(x):\n",
    "    lst = []\n",
    "    for i in x:\n",
    "        lst.append(max(0, i))\n",
    "    return lst\n",
    "\n",
    "def softmax(x):\n",
    "    e = 2.71828\n",
    "    exp_i = []\n",
    "    for i in x:\n",
    "        exp_i.append((e ** i))\n",
    "    exp_i_sum = sum(exp_i)\n",
    "    probs = []\n",
    "    for i in exp_i:\n",
    "        probs.append(i / exp_i_sum)\n",
    "    return probs\n",
    "\n",
    "xs = [-1,2]\n",
    "ws = [4,5]\n",
    "ws2 = [7,8]\n",
    "\n",
    "l1 = f(ws,xs)\n",
    "act1 = ReLU(l1)\n",
    "l2 = f(ws2, act1)\n",
    "probabilities = softmax(l2)\n",
    "probabilities"
   ]
  },
  {
   "cell_type": "code",
   "execution_count": null,
   "id": "9a2e7ccf",
   "metadata": {},
   "outputs": [],
   "source": []
  },
  {
   "cell_type": "code",
   "execution_count": 2,
   "id": "61f2581e",
   "metadata": {},
   "outputs": [
    {
     "data": {
      "text/plain": [
       "79.99994618778256"
      ]
     },
     "execution_count": 2,
     "metadata": {},
     "output_type": "execute_result"
    }
   ],
   "source": [
    "# Loss, Categorical Cross Entropy\n",
    "# Python\n",
    "def categorical_cross_entropy(probabilities):\n",
    "    import math\n",
    "    \n",
    "    y = [1,0]\n",
    "    \n",
    "    loss = 0\n",
    "    for i in range(len(y)):\n",
    "        loss -= y[i] * math.log(probabilities[i])\n",
    "    \n",
    "    return loss\n",
    "\n",
    "categorical_cross_entropy(probabilities)"
   ]
  },
  {
   "cell_type": "code",
   "execution_count": null,
   "id": "f18c73f3",
   "metadata": {},
   "outputs": [],
   "source": []
  },
  {
   "cell_type": "code",
   "execution_count": 29,
   "id": "90c63f52",
   "metadata": {},
   "outputs": [
    {
     "data": {
      "text/plain": [
       "array([1.80485139e-35, 1.00000000e+00])"
      ]
     },
     "execution_count": 29,
     "metadata": {},
     "output_type": "execute_result"
    }
   ],
   "source": [
    "# FFNN numpy\n",
    "import numpy as np\n",
    "\n",
    "def f(w,x):\n",
    "    return w * x\n",
    "\n",
    "def ReLU(x):\n",
    "    return np.maximum(0, x)\n",
    "\n",
    "def softmax(x):\n",
    "    return np.e**x / np.sum(np.e**x)\n",
    "\n",
    "xs = np.array([-1,2])\n",
    "ws = np.array([4,5])\n",
    "ws2 = np.array([7,8])\n",
    "\n",
    "l1 = f(ws,xs)\n",
    "act1 = ReLU(l1)\n",
    "l2 = f(ws2, act1)\n",
    "probabilities = softmax(l2)\n",
    "probabilities"
   ]
  },
  {
   "cell_type": "code",
   "execution_count": 34,
   "id": "3e036b92",
   "metadata": {},
   "outputs": [
    {
     "data": {
      "text/plain": [
       "80.0"
      ]
     },
     "execution_count": 34,
     "metadata": {},
     "output_type": "execute_result"
    }
   ],
   "source": [
    "# Loss, Categorical Cross Entropy\n",
    "# numpy\n",
    "import numpy as np\n",
    "y = np.array([1,0])\n",
    "-np.log(np.sum(probabilities * y))"
   ]
  },
  {
   "cell_type": "code",
   "execution_count": null,
   "id": "e0fdb008",
   "metadata": {},
   "outputs": [],
   "source": []
  },
  {
   "cell_type": "code",
   "execution_count": 5,
   "id": "47f8eb24",
   "metadata": {},
   "outputs": [
    {
     "data": {
      "text/plain": [
       "tensor([1.8049e-35, 1.0000e+00])"
      ]
     },
     "execution_count": 5,
     "metadata": {},
     "output_type": "execute_result"
    }
   ],
   "source": [
    "# FFNN pytorch\n",
    "\n",
    "import torch\n",
    "\n",
    "def f(w,x):\n",
    "    return w * x\n",
    "\n",
    "def ReLU(x):\n",
    "    return torch.relu(x)\n",
    "\n",
    "def softmax(x):\n",
    "    return torch.e**x / torch.sum(torch.e**x)\n",
    "\n",
    "xs = torch.tensor([-1,2])\n",
    "ws = torch.tensor([4,5])\n",
    "ws2 = torch.tensor([7,8])\n",
    "\n",
    "l1 = f(ws,xs)\n",
    "act1 = ReLU(l1)\n",
    "l2 = f(ws2, act1)\n",
    "logits = l2\n",
    "probabilities = softmax(logits)\n",
    "probabilities"
   ]
  },
  {
   "cell_type": "code",
   "execution_count": 6,
   "id": "812dc55a",
   "metadata": {},
   "outputs": [
    {
     "data": {
      "text/plain": [
       "tensor(80.)"
      ]
     },
     "execution_count": 6,
     "metadata": {},
     "output_type": "execute_result"
    }
   ],
   "source": [
    "# Loss, Categorical Cross Entropy\n",
    "# pytorch\n",
    "import torch\n",
    "y = torch.tensor([1,0])\n",
    "# -torch.log(torch.sum(probabilities * y))\n",
    "\n",
    "\n",
    "# built in\n",
    "ce_obj = torch.nn.CrossEntropyLoss()\n",
    "ce_obj(logits.float(), torch.argmax(y))"
   ]
  },
  {
   "cell_type": "code",
   "execution_count": null,
   "id": "e296b9c6",
   "metadata": {},
   "outputs": [],
   "source": []
  },
  {
   "cell_type": "code",
   "execution_count": 87,
   "id": "15ab70a5",
   "metadata": {},
   "outputs": [
    {
     "data": {
      "text/plain": [
       "array([1.80485139e-35, 1.00000000e+00])"
      ]
     },
     "execution_count": 87,
     "metadata": {},
     "output_type": "execute_result"
    }
   ],
   "source": [
    "# FFNN scipy & numpy\n",
    "\n",
    "import scipy as sp\n",
    "import numpy as np\n",
    "\n",
    "\n",
    "def f(w,x):\n",
    "    return w * x\n",
    "\n",
    "def ReLU(x):\n",
    "    return np.maximum(0, x)\n",
    "\n",
    "def softmax(x):\n",
    "    return sp.special.softmax(x)\n",
    "\n",
    "xs = np.array([-1,2])\n",
    "ws = np.array([4,5])\n",
    "ws2 = np.array([7,8])\n",
    "\n",
    "l1 = f(ws,xs)\n",
    "act1 = ReLU(l1)\n",
    "l2 = f(ws2, act1)\n",
    "logits = l2\n",
    "probabilities = softmax(logits)\n",
    "probabilities"
   ]
  },
  {
   "cell_type": "code",
   "execution_count": 85,
   "id": "0727c04d",
   "metadata": {},
   "outputs": [
    {
     "data": {
      "text/plain": [
       "80.0"
      ]
     },
     "execution_count": 85,
     "metadata": {},
     "output_type": "execute_result"
    }
   ],
   "source": [
    "# Loss, Categorical Cross Entropy\n",
    "# scipy & numpy\n",
    "\n",
    "import numpy as np\n",
    "from scipy.special import softmax, kl_div\n",
    "\n",
    "y = np.array([1,0])\n",
    "logits\n",
    "\n",
    "loss = np.sum(kl_div(y, softmax(logits)))\n",
    "loss"
   ]
  }
 ],
 "metadata": {
  "kernelspec": {
   "display_name": "Python 3 (ipykernel)",
   "language": "python",
   "name": "python3"
  },
  "language_info": {
   "codemirror_mode": {
    "name": "ipython",
    "version": 3
   },
   "file_extension": ".py",
   "mimetype": "text/x-python",
   "name": "python",
   "nbconvert_exporter": "python",
   "pygments_lexer": "ipython3",
   "version": "3.9.13"
  }
 },
 "nbformat": 4,
 "nbformat_minor": 5
}
