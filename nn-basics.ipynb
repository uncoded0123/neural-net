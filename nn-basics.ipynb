{
 "cells": [
  {
   "cell_type": "code",
   "execution_count": 1,
   "id": "d940fcf0",
   "metadata": {},
   "outputs": [],
   "source": [
    "x = 5\n",
    "w = 3\n",
    "y = 7"
   ]
  },
  {
   "cell_type": "code",
   "execution_count": 25,
   "id": "052fb367",
   "metadata": {},
   "outputs": [
    {
     "data": {
      "text/plain": [
       "3.814697265625e-06"
      ]
     },
     "execution_count": 25,
     "metadata": {},
     "output_type": "execute_result"
    }
   ],
   "source": [
    "yhat = x*w\n",
    "l = (yhat - y)**2\n",
    "dldyhat = 2*(yhat - y)\n",
    "dyhat_dw = x\n",
    "dldw = dldyhat * dyhat_dw\n",
    "w = w - 0.01*dldw\n",
    "l"
   ]
  }
 ],
 "metadata": {
  "kernelspec": {
   "display_name": "Python 3 (ipykernel)",
   "language": "python",
   "name": "python3"
  },
  "language_info": {
   "codemirror_mode": {
    "name": "ipython",
    "version": 3
   },
   "file_extension": ".py",
   "mimetype": "text/x-python",
   "name": "python",
   "nbconvert_exporter": "python",
   "pygments_lexer": "ipython3",
   "version": "3.11.4"
  }
 },
 "nbformat": 4,
 "nbformat_minor": 5
}
