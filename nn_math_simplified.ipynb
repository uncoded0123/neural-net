def f(x,w):
    return x*w

def relu(x):
    return max(0, x)

def loss(x,y):
    return (x - y)**2

x = 2
w = 7
y = 20

for i in range(10):
    l1 = f(x,w)
    a1 = relu(l1)
    loss1 = loss(a1,y)
    print(loss1)

    dloss1_da1 = 2 * (a1 - y)
    da1_dl1 = 1 if l1>=0 else 0
    dl1_dw = x
    dloss1_dw = dloss1_da1 * da1_dl1 * dl1_dw

    w = w - 0.1 * dloss1_dw
